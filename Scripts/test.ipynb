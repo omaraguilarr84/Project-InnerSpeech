{
 "cells": [
  {
   "cell_type": "code",
   "execution_count": 1,
   "metadata": {},
   "outputs": [
    {
     "name": "stdout",
     "output_type": "stream",
     "text": [
      "Torch version: 2.2.2\n",
      "NumPy version: 1.23.5\n",
      "Converted to NumPy: [[0.14412403 0.4546823  0.22157496 0.18400407 0.60119927]\n",
      " [0.21940267 0.22033095 0.28406942 0.9437595  0.10392785]\n",
      " [0.7555739  0.77459306 0.34276962 0.16346216 0.335095  ]\n",
      " [0.9476353  0.06899536 0.0914256  0.9830422  0.3144027 ]\n",
      " [0.8652157  0.7275823  0.4175464  0.1428163  0.32591653]]\n"
     ]
    }
   ],
   "source": [
    "import torch\n",
    "import numpy as np\n",
    "\n",
    "print(\"Torch version:\", torch.__version__)\n",
    "print(\"NumPy version:\", np.__version__)\n",
    "\n",
    "# Test the tensor to numpy conversion\n",
    "tensor = torch.rand(5, 5)\n",
    "print(\"Converted to NumPy:\", tensor.numpy())\n"
   ]
  }
 ],
 "metadata": {
  "kernelspec": {
   "display_name": "Python 3",
   "language": "python",
   "name": "python3"
  },
  "language_info": {
   "codemirror_mode": {
    "name": "ipython",
    "version": 3
   },
   "file_extension": ".py",
   "mimetype": "text/x-python",
   "name": "python",
   "nbconvert_exporter": "python",
   "pygments_lexer": "ipython3",
   "version": "3.9.7"
  }
 },
 "nbformat": 4,
 "nbformat_minor": 2
}
