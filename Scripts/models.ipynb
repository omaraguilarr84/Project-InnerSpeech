{
 "cells": [
  {
   "cell_type": "code",
   "execution_count": 99,
   "metadata": {},
   "outputs": [],
   "source": [
    "import pandas as pd\n",
    "import numpy as np\n",
    "import ast\n",
    "import mne\n",
    "from tqdm import tqdm\n",
    "import matplotlib.pyplot as plt\n",
    "from sklearn.model_selection import train_test_split\n",
    "from sklearn.ensemble import RandomForestClassifier\n",
    "from sklearn.svm import SVC\n",
    "from sklearn.metrics import accuracy_score, classification_report, confusion_matrix, ConfusionMatrixDisplay"
   ]
  },
  {
   "cell_type": "markdown",
   "metadata": {},
   "source": [
    "**Load Data**"
   ]
  },
  {
   "cell_type": "code",
   "execution_count": 100,
   "metadata": {},
   "outputs": [],
   "source": [
    "processed_path = '../Data/Processed/sub01_binned.csv'\n",
    "eeg_data = pd.read_csv(processed_path)"
   ]
  },
  {
   "cell_type": "markdown",
   "metadata": {},
   "source": [
    "**Random Forest Model for Each Electrode**"
   ]
  },
  {
   "cell_type": "code",
   "execution_count": 134,
   "metadata": {},
   "outputs": [],
   "source": [
    "def rf_each_electrode(eeg_data, n_estimators=100):\n",
    "    electrode_data = eeg_data.drop(columns=['label', 'label_type'])\n",
    "    y = eeg_data['label_type']\n",
    "    electrode_accuracies = {}\n",
    "\n",
    "    for electrode in tqdm(electrode_data.columns, desc='Training Data'):\n",
    "        X_electrode = electrode_data[electrode].apply(lambda x: ast.literal_eval(x)).tolist()\n",
    "        X_electrode = pd.DataFrame(X_electrode)\n",
    "\n",
    "        X_train, X_test, y_train, y_test = train_test_split(X_electrode, y, test_size=0.2, random_state=42)\n",
    "\n",
    "        rf = RandomForestClassifier(n_estimators=n_estimators, random_state=42)\n",
    "        rf.fit(X_train, y_train)\n",
    "\n",
    "        y_pred = rf.predict(X_test)\n",
    "\n",
    "        accuracy = accuracy_score(y_test, y_pred)\n",
    "        electrode_accuracies[electrode] = accuracy\n",
    "    \n",
    "    return electrode_accuracies"
   ]
  },
  {
   "cell_type": "code",
   "execution_count": null,
   "metadata": {},
   "outputs": [],
   "source": [
    "electrode_accuracies = rf_each_electrode(eeg_data, n_estimators=200)"
   ]
  },
  {
   "cell_type": "code",
   "execution_count": 111,
   "metadata": {},
   "outputs": [],
   "source": [
    "sorted_electrodes = sorted(electrode_accuracies.items(), key=lambda item: item[1], reverse=True)\n",
    "top_electrodes = sorted_electrodes[:10]"
   ]
  },
  {
   "cell_type": "code",
   "execution_count": 112,
   "metadata": {},
   "outputs": [
    {
     "name": "stdout",
     "output_type": "stream",
     "text": [
      "CP3: 0.6250\n",
      "PO3: 0.6250\n",
      "C3: 0.6094\n",
      "C5: 0.5938\n",
      "TP7: 0.5938\n",
      "PO7: 0.5781\n",
      "T7: 0.5781\n",
      "CP1: 0.5781\n",
      "C2: 0.5781\n",
      "P5: 0.5625\n"
     ]
    }
   ],
   "source": [
    "for electrode, accuracy in top_electrodes:\n",
    "    print(f\"{electrode}: {accuracy:.4f}\")"
   ]
  },
  {
   "cell_type": "markdown",
   "metadata": {},
   "source": [
    "**Random Forest with Mean**"
   ]
  },
  {
   "cell_type": "code",
   "execution_count": 140,
   "metadata": {},
   "outputs": [],
   "source": [
    "def rf_w_mean(eeg_data, n_estimators=100):\n",
    "    electrode_data = eeg_data.drop(columns=['label', 'label_type'])\n",
    "    y = eeg_data['label_type']\n",
    "\n",
    "    mean_data = electrode_data.map(lambda x: np.mean(ast.literal_eval(x)) if isinstance(x, str) else np.nan)\n",
    "\n",
    "    X = mean_data.values\n",
    "\n",
    "    X_train, X_test, y_train, y_test = train_test_split(X, y, test_size=0.2, random_state=42)\n",
    "\n",
    "    rf_mean = RandomForestClassifier(n_estimators=n_estimators, random_state=42)\n",
    "    rf_mean.fit(X_train, y_train)\n",
    "\n",
    "    y_pred = rf_mean.predict(X_test)\n",
    "    accuracy = accuracy_score(y_test, y_pred)\n",
    "    conf_matrix = confusion_matrix(y_test, y_pred)\n",
    "\n",
    "    print(f\"Random Forest with Mean Accuracy: {accuracy:.4f}\")"
   ]
  },
  {
   "cell_type": "code",
   "execution_count": 132,
   "metadata": {},
   "outputs": [
    {
     "name": "stdout",
     "output_type": "stream",
     "text": [
      "Random Forest with Mean Accuracy: 0.3750\n"
     ]
    }
   ],
   "source": [
    "rf_w_mean(eeg_data)"
   ]
  },
  {
   "cell_type": "markdown",
   "metadata": {},
   "source": [
    "**Random Forest During Task**"
   ]
  },
  {
   "cell_type": "code",
   "execution_count": 135,
   "metadata": {},
   "outputs": [
    {
     "name": "stderr",
     "output_type": "stream",
     "text": [
      "Training Data: 100%|██████████| 64/64 [01:36<00:00,  1.51s/it]\n"
     ]
    }
   ],
   "source": [
    "eeg_task_path = '../Data/Processed/sub01_binned_task.csv'\n",
    "eeg_task = pd.read_csv(eeg_task_path)\n",
    "\n",
    "task_accuracies = rf_each_electrode(eeg_task, n_estimators=200)"
   ]
  },
  {
   "cell_type": "code",
   "execution_count": 136,
   "metadata": {},
   "outputs": [
    {
     "name": "stdout",
     "output_type": "stream",
     "text": [
      "P5: 0.6875\n",
      "T8: 0.6562\n",
      "C1: 0.6562\n",
      "FC6: 0.6406\n",
      "PO7: 0.6250\n",
      "Pz: 0.6250\n",
      "Fz: 0.6094\n",
      "P9: 0.6094\n",
      "P2: 0.6094\n",
      "Iz: 0.6094\n"
     ]
    }
   ],
   "source": [
    "sorted_electrodes = sorted(task_accuracies.items(), key=lambda item: item[1], reverse=True)\n",
    "top_electrodes = sorted_electrodes[:10]\n",
    "\n",
    "for electrode, accuracy in top_electrodes:\n",
    "    print(f\"{electrode}: {accuracy:.4f}\")"
   ]
  },
  {
   "cell_type": "markdown",
   "metadata": {},
   "source": [
    "**Random Forest with Mean During Task**"
   ]
  },
  {
   "cell_type": "code",
   "execution_count": 142,
   "metadata": {},
   "outputs": [
    {
     "name": "stdout",
     "output_type": "stream",
     "text": [
      "Random Forest with Mean Accuracy: 0.6250\n"
     ]
    }
   ],
   "source": [
    "rf_w_mean(eeg_task, n_estimators=200)"
   ]
  },
  {
   "cell_type": "markdown",
   "metadata": {},
   "source": [
    "**Convolutional Neural Network**"
   ]
  },
  {
   "cell_type": "code",
   "execution_count": null,
   "metadata": {},
   "outputs": [],
   "source": []
  }
 ],
 "metadata": {
  "kernelspec": {
   "display_name": "venv",
   "language": "python",
   "name": "python3"
  },
  "language_info": {
   "codemirror_mode": {
    "name": "ipython",
    "version": 3
   },
   "file_extension": ".py",
   "mimetype": "text/x-python",
   "name": "python",
   "nbconvert_exporter": "python",
   "pygments_lexer": "ipython3",
   "version": "3.12.4"
  }
 },
 "nbformat": 4,
 "nbformat_minor": 2
}
