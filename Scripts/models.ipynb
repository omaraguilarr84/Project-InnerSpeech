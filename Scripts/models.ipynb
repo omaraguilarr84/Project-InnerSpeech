{
 "cells": [
  {
   "cell_type": "code",
   "execution_count": 16,
   "metadata": {},
   "outputs": [],
   "source": [
    "import pandas as pd\n",
    "import numpy as np\n",
    "import ast\n",
    "import mne\n",
    "from tqdm import tqdm\n",
    "import matplotlib.pyplot as plt\n",
    "from sklearn.model_selection import train_test_split\n",
    "from sklearn.ensemble import RandomForestClassifier\n",
    "from sklearn.neural_network import MLPClassifier\n",
    "from sklearn.metrics import accuracy_score, classification_report, confusion_matrix, ConfusionMatrixDisplay"
   ]
  },
  {
   "cell_type": "markdown",
   "metadata": {},
   "source": [
    "**Load Data**"
   ]
  },
  {
   "cell_type": "code",
   "execution_count": 17,
   "metadata": {},
   "outputs": [],
   "source": [
    "data_path = '../Data/Processed/sub01_binned_raw.csv'\n",
    "eeg_data_raw = pd.read_csv(data_path)\n",
    "\n",
    "eeg_task_path = '../Data/Processed/sub01_binned_task_raw.csv'\n",
    "eeg_task_raw = pd.read_csv(eeg_task_path)\n",
    "\n",
    "data_path = '../Data/Processed/sub01_binned.csv'\n",
    "eeg_data = pd.read_csv(data_path)\n",
    "\n",
    "eeg_task_path = '../Data/Processed/sub01_binned_task.csv'\n",
    "eeg_task = pd.read_csv(eeg_task_path)"
   ]
  },
  {
   "cell_type": "markdown",
   "metadata": {},
   "source": [
    "**Load Features**"
   ]
  },
  {
   "cell_type": "code",
   "execution_count": null,
   "metadata": {},
   "outputs": [],
   "source": [
    "features_path = '../Data/Features/sub01_features_processed.csv'\n",
    "features = pd.read_csv(features_path)"
   ]
  },
  {
   "cell_type": "markdown",
   "metadata": {},
   "source": [
    "# Random Forest"
   ]
  },
  {
   "cell_type": "markdown",
   "metadata": {},
   "source": [
    "**Features**"
   ]
  },
  {
   "cell_type": "markdown",
   "metadata": {},
   "source": [
    "**Flattened Dataset**"
   ]
  },
  {
   "cell_type": "code",
   "execution_count": 10,
   "metadata": {},
   "outputs": [],
   "source": [
    "def flatten_eeg_data(eeg_data, max_length=2047):\n",
    "    \"\"\"\n",
    "    Flattens the EEG data where each cell contains a list of floats.\n",
    "    \n",
    "    Parameters:\n",
    "        eeg_data (pd.DataFrame): DataFrame with trials as rows and electrodes as columns.\n",
    "        max_length (int): The fixed length to truncate or pad each list to.\n",
    "        \n",
    "    Returns:\n",
    "        flattened_data (np.ndarray): 2D array with each row as a flattened trial.\n",
    "        labels (np.ndarray): 1D array of labels corresponding to each trial.\n",
    "    \"\"\"\n",
    "    # Step 1: Drop non-electrode columns like 'label' and 'label_type'\n",
    "    eeg_data_filtered = eeg_data.drop(columns=['label', 'label_type'])\n",
    "\n",
    "    # Step 2: Initialize lists to store flattened data and labels\n",
    "    flattened_data = []\n",
    "    labels = eeg_data['label_type'].values\n",
    "\n",
    "    # Step 3: Iterate over each trial\n",
    "    for trial in tqdm(range(eeg_data.shape[0]), desc='Flattening Data'):\n",
    "        trial_data = []\n",
    "        for col in eeg_data_filtered.columns:\n",
    "            # Convert string to list of floats using ast.literal_eval\n",
    "            channel_data = ast.literal_eval(eeg_data_filtered[col].iloc[trial])\n",
    "            \n",
    "            # Truncate or pad to max_length to ensure consistency\n",
    "            if len(channel_data) > max_length:\n",
    "                channel_data = channel_data[:max_length]\n",
    "            else:\n",
    "                channel_data = channel_data + [0] * (max_length - len(channel_data))\n",
    "            \n",
    "            # Append the flattened channel data\n",
    "            trial_data.extend(channel_data)\n",
    "        \n",
    "        flattened_data.append(trial_data)\n",
    "    \n",
    "    # Convert flattened data to a NumPy array\n",
    "    flattened_data = np.array(flattened_data)\n",
    "    return flattened_data, labels"
   ]
  },
  {
   "cell_type": "code",
   "execution_count": 20,
   "metadata": {},
   "outputs": [
    {
     "name": "stderr",
     "output_type": "stream",
     "text": [
      "Flattening Data: 100%|██████████| 319/319 [02:36<00:00,  2.03it/s]\n"
     ]
    },
    {
     "name": "stdout",
     "output_type": "stream",
     "text": [
      "Shape of flattened data: (319, 131008)\n",
      "Shape of labels: (319,)\n"
     ]
    }
   ],
   "source": [
    "flattened_data, labels = flatten_eeg_data(eeg_data, max_length=2047)\n",
    "print(\"Shape of flattened data:\", flattened_data.shape)\n",
    "print(\"Shape of labels:\", labels.shape)"
   ]
  },
  {
   "cell_type": "code",
   "execution_count": 12,
   "metadata": {},
   "outputs": [],
   "source": [
    "def rf_flattened(eeg_data, labels, n_estimators=100):\n",
    "    X_train, X_test, y_train, y_test = train_test_split(eeg_data, labels, test_size=0.2, random_state=42)\n",
    "\n",
    "    rf = RandomForestClassifier(n_estimators=n_estimators, random_state=42)\n",
    "    rf.fit(X_train, y_train)\n",
    "\n",
    "    y_pred = rf.predict(X_test)\n",
    "    accuracy = accuracy_score(y_test, y_pred)\n",
    "    print(f'Accuracy: {accuracy: .2f}')"
   ]
  },
  {
   "cell_type": "code",
   "execution_count": 21,
   "metadata": {},
   "outputs": [
    {
     "name": "stdout",
     "output_type": "stream",
     "text": [
      "Accuracy:  0.56\n"
     ]
    }
   ],
   "source": [
    "rf_flattened(flattened_data, labels, n_estimators=200)"
   ]
  },
  {
   "cell_type": "markdown",
   "metadata": {},
   "source": [
    "**Each Electrode**"
   ]
  },
  {
   "cell_type": "code",
   "execution_count": 39,
   "metadata": {},
   "outputs": [],
   "source": [
    "def rf_each_electrode(eeg_data, n_estimators=100):\n",
    "    electrode_data = eeg_data.drop(columns=['label', 'label_type'])\n",
    "    y = eeg_data['label_type']\n",
    "    electrode_accuracies = {}\n",
    "\n",
    "    for electrode in tqdm(electrode_data.columns, desc='Training Data'):\n",
    "        X_electrode = electrode_data[electrode].apply(lambda x: ast.literal_eval(x)).tolist()\n",
    "        X_electrode = pd.DataFrame(X_electrode)\n",
    "\n",
    "        X_electrode.dropna(axis=1, inplace=True)\n",
    "\n",
    "        X_train, X_test, y_train, y_test = train_test_split(X_electrode, y, test_size=0.2, random_state=42)\n",
    "\n",
    "        rf = RandomForestClassifier(n_estimators=n_estimators, random_state=42)\n",
    "        rf.fit(X_train, y_train)\n",
    "\n",
    "        y_pred = rf.predict(X_test)\n",
    "\n",
    "        accuracy = accuracy_score(y_test, y_pred)\n",
    "        electrode_accuracies[electrode] = accuracy\n",
    "    \n",
    "    return electrode_accuracies"
   ]
  },
  {
   "cell_type": "code",
   "execution_count": 40,
   "metadata": {},
   "outputs": [
    {
     "name": "stderr",
     "output_type": "stream",
     "text": [
      "Training Data: 100%|██████████| 64/64 [03:20<00:00,  3.13s/it]\n"
     ]
    }
   ],
   "source": [
    "electrode_accuracies = rf_each_electrode(eeg_data, n_estimators=200)"
   ]
  },
  {
   "cell_type": "code",
   "execution_count": 41,
   "metadata": {},
   "outputs": [],
   "source": [
    "sorted_electrodes = sorted(electrode_accuracies.items(), key=lambda item: item[1], reverse=True)\n",
    "top_electrodes = sorted_electrodes[:10]"
   ]
  },
  {
   "cell_type": "code",
   "execution_count": 42,
   "metadata": {},
   "outputs": [
    {
     "name": "stdout",
     "output_type": "stream",
     "text": [
      "P1: 0.7031\n",
      "FC1: 0.6719\n",
      "P4: 0.6719\n",
      "FC6: 0.6562\n",
      "O1: 0.6406\n",
      "C3: 0.6250\n",
      "FC3: 0.6250\n",
      "P6: 0.6250\n",
      "PO3: 0.6094\n",
      "Fp1: 0.6094\n"
     ]
    }
   ],
   "source": [
    "for electrode, accuracy in top_electrodes:\n",
    "    print(f\"{electrode}: {accuracy:.4f}\")"
   ]
  },
  {
   "cell_type": "markdown",
   "metadata": {},
   "source": [
    "**Random Forest with Mean**"
   ]
  },
  {
   "cell_type": "code",
   "execution_count": 43,
   "metadata": {},
   "outputs": [],
   "source": [
    "def rf_w_mean(eeg_data, n_estimators=100):\n",
    "    electrode_data = eeg_data.drop(columns=['label', 'label_type'])\n",
    "    y = eeg_data['label_type']\n",
    "\n",
    "    mean_data = electrode_data.map(lambda x: np.mean(ast.literal_eval(x)) if isinstance(x, str) else np.nan)\n",
    "\n",
    "    X = mean_data.values\n",
    "\n",
    "    X_train, X_test, y_train, y_test = train_test_split(X, y, test_size=0.2, random_state=42)\n",
    "\n",
    "    rf_mean = RandomForestClassifier(n_estimators=n_estimators, random_state=42)\n",
    "    rf_mean.fit(X_train, y_train)\n",
    "\n",
    "    y_pred = rf_mean.predict(X_test)\n",
    "    accuracy = accuracy_score(y_test, y_pred)\n",
    "    conf_matrix = confusion_matrix(y_test, y_pred)\n",
    "\n",
    "    print(f\"Random Forest with Mean Accuracy: {accuracy:.4f}\")"
   ]
  },
  {
   "cell_type": "code",
   "execution_count": 44,
   "metadata": {},
   "outputs": [
    {
     "name": "stdout",
     "output_type": "stream",
     "text": [
      "Random Forest with Mean Accuracy: 0.5625\n"
     ]
    }
   ],
   "source": [
    "rf_w_mean(eeg_data)"
   ]
  },
  {
   "cell_type": "markdown",
   "metadata": {},
   "source": [
    "**Random Forest During Task**"
   ]
  },
  {
   "cell_type": "code",
   "execution_count": 45,
   "metadata": {},
   "outputs": [
    {
     "name": "stderr",
     "output_type": "stream",
     "text": [
      "Training Data: 100%|██████████| 64/64 [01:57<00:00,  1.83s/it]\n"
     ]
    }
   ],
   "source": [
    "task_accuracies = rf_each_electrode(eeg_task, n_estimators=200)"
   ]
  },
  {
   "cell_type": "code",
   "execution_count": 46,
   "metadata": {},
   "outputs": [],
   "source": [
    "def top_accuracies(accuracies, top_num):\n",
    "    sorted_electrodes = sorted(accuracies.items(), key=lambda item: item[1], reverse=True)\n",
    "    top_electrodes = sorted_electrodes[:top_num]\n",
    "\n",
    "    for electrode, accuracy in top_electrodes:\n",
    "        print(f\"{electrode}: {accuracy:.4f}\")"
   ]
  },
  {
   "cell_type": "code",
   "execution_count": 47,
   "metadata": {},
   "outputs": [
    {
     "name": "stdout",
     "output_type": "stream",
     "text": [
      "P1: 0.7344\n",
      "FC6: 0.6719\n",
      "O1: 0.6406\n",
      "C3: 0.6406\n",
      "F4: 0.6406\n",
      "C5: 0.6250\n",
      "P4: 0.6094\n",
      "AF3: 0.6094\n",
      "CP3: 0.6094\n",
      "T8: 0.5938\n"
     ]
    }
   ],
   "source": [
    "top_accuracies(task_accuracies, 10)"
   ]
  },
  {
   "cell_type": "markdown",
   "metadata": {},
   "source": [
    "**Random Forest with Mean During Task**"
   ]
  },
  {
   "cell_type": "code",
   "execution_count": 48,
   "metadata": {},
   "outputs": [
    {
     "name": "stdout",
     "output_type": "stream",
     "text": [
      "Random Forest with Mean Accuracy: 0.5312\n"
     ]
    }
   ],
   "source": [
    "rf_w_mean(eeg_task, n_estimators=200)"
   ]
  },
  {
   "cell_type": "markdown",
   "metadata": {},
   "source": [
    "# MLP"
   ]
  },
  {
   "cell_type": "markdown",
   "metadata": {},
   "source": [
    "**MLP for Each Electrode**"
   ]
  },
  {
   "cell_type": "code",
   "execution_count": 49,
   "metadata": {},
   "outputs": [],
   "source": [
    "def mlp_each_electrode(eeg_data):\n",
    "    electrode_data = eeg_data.drop(columns=['label', 'label_type'])\n",
    "    y = eeg_data['label_type']\n",
    "    electrode_accuracies = {}\n",
    "\n",
    "    for electrode in tqdm(electrode_data.columns, desc='Training Data'):\n",
    "        X_electrode = electrode_data[electrode].apply(lambda x: ast.literal_eval(x)).tolist()\n",
    "        X_electrode = pd.DataFrame(X_electrode)\n",
    "\n",
    "        X_electrode.dropna(axis=1, inplace=True)\n",
    "\n",
    "        X_train, X_test, y_train, y_test = train_test_split(X_electrode, y, test_size=0.2, random_state=42)\n",
    "\n",
    "        mlp = MLPClassifier(hidden_layer_sizes=(100,100), max_iter=300, random_state=42)\n",
    "        mlp.fit(X_train, y_train)\n",
    "\n",
    "        y_pred = mlp.predict(X_test)\n",
    "\n",
    "        accuracy = accuracy_score(y_test, y_pred)\n",
    "        electrode_accuracies[electrode] = accuracy\n",
    "    \n",
    "    return electrode_accuracies"
   ]
  },
  {
   "cell_type": "code",
   "execution_count": 50,
   "metadata": {},
   "outputs": [
    {
     "name": "stderr",
     "output_type": "stream",
     "text": [
      "Training Data: 100%|██████████| 64/64 [02:25<00:00,  2.27s/it]\n"
     ]
    }
   ],
   "source": [
    "mlp_electrode_accuracies = mlp_each_electrode(eeg_data)"
   ]
  },
  {
   "cell_type": "code",
   "execution_count": 51,
   "metadata": {},
   "outputs": [
    {
     "name": "stdout",
     "output_type": "stream",
     "text": [
      "C3: 0.5625\n",
      "C1: 0.5312\n",
      "C4: 0.5312\n",
      "FT7: 0.5312\n",
      "Fz: 0.5312\n",
      "CP4: 0.5312\n",
      "CPz: 0.5312\n",
      "P8: 0.5312\n",
      "TP8: 0.5312\n",
      "PO8: 0.5312\n"
     ]
    }
   ],
   "source": [
    "top_accuracies(mlp_electrode_accuracies, 10)"
   ]
  },
  {
   "cell_type": "markdown",
   "metadata": {},
   "source": [
    "**During Task**"
   ]
  },
  {
   "cell_type": "code",
   "execution_count": 52,
   "metadata": {},
   "outputs": [
    {
     "name": "stderr",
     "output_type": "stream",
     "text": [
      "Training Data: 100%|██████████| 64/64 [01:09<00:00,  1.09s/it]\n"
     ]
    }
   ],
   "source": [
    "mlp_task_accuracies = mlp_each_electrode(eeg_task)"
   ]
  },
  {
   "cell_type": "code",
   "execution_count": 53,
   "metadata": {},
   "outputs": [
    {
     "name": "stdout",
     "output_type": "stream",
     "text": [
      "P2: 0.4688\n",
      "AF8: 0.4688\n",
      "FC6: 0.4688\n",
      "C6: 0.4688\n",
      "C1: 0.4688\n",
      "Iz: 0.4688\n",
      "T8: 0.4688\n",
      "O1: 0.4688\n",
      "P10: 0.4688\n",
      "C4: 0.4688\n"
     ]
    }
   ],
   "source": [
    "top_accuracies(mlp_task_accuracies, 10)"
   ]
  },
  {
   "cell_type": "markdown",
   "metadata": {},
   "source": [
    "**Convolutional Neural Network**"
   ]
  },
  {
   "cell_type": "code",
   "execution_count": 54,
   "metadata": {},
   "outputs": [
    {
     "name": "stdout",
     "output_type": "stream",
     "text": [
      "24072\n"
     ]
    }
   ],
   "source": [
    "print(len(eeg_task['T8'][0]))"
   ]
  }
 ],
 "metadata": {
  "kernelspec": {
   "display_name": "venv",
   "language": "python",
   "name": "python3"
  },
  "language_info": {
   "codemirror_mode": {
    "name": "ipython",
    "version": 3
   },
   "file_extension": ".py",
   "mimetype": "text/x-python",
   "name": "python",
   "nbconvert_exporter": "python",
   "pygments_lexer": "ipython3",
   "version": "3.12.4"
  }
 },
 "nbformat": 4,
 "nbformat_minor": 2
}
