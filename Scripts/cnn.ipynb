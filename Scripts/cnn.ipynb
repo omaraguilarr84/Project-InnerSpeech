{
 "cells": [
  {
   "cell_type": "code",
   "execution_count": 176,
   "metadata": {},
   "outputs": [],
   "source": [
    "import numpy as np\n",
    "import torch\n",
    "import torch.nn as nn\n",
    "import torch.nn.functional as F\n",
    "import torch.optim as optim\n",
    "from torch.utils.data import DataLoader, Dataset\n",
    "import pandas as pd\n",
    "import ast\n",
    "from tqdm import tqdm\n",
    "from sklearn.model_selection import train_test_split\n",
    "from sklearn.preprocessing import LabelEncoder, StandardScaler\n",
    "from sklearn.metrics import confusion_matrix, classification_report\n",
    "import matplotlib.pyplot as plt\n",
    "import seaborn as sns"
   ]
  },
  {
   "cell_type": "code",
   "execution_count": 177,
   "metadata": {},
   "outputs": [],
   "source": [
    "processed_path = '../Data/Processed/sub01_binned.csv'\n",
    "eeg_data = pd.read_csv(processed_path)\n",
    "\n",
    "eeg_task_path = '../Data/Processed/sub01_binned_task.csv'\n",
    "eeg_task = pd.read_csv(eeg_task_path)"
   ]
  },
  {
   "cell_type": "code",
   "execution_count": 178,
   "metadata": {},
   "outputs": [],
   "source": [
    "class EEGDataset(Dataset):\n",
    "    def __init__(self, eeg_data, labels):\n",
    "        self.eeg_data = eeg_data\n",
    "        self.labels = labels\n",
    "\n",
    "    def __len__(self):\n",
    "        return len(self.eeg_data)\n",
    "\n",
    "    def __getitem__(self, idx):\n",
    "        X = torch.tensor(self.eeg_data[idx], dtype=torch.float32)\n",
    "        y = torch.tensor(self.labels[idx], dtype=torch.long)\n",
    "        return X, y"
   ]
  },
  {
   "cell_type": "code",
   "execution_count": 179,
   "metadata": {},
   "outputs": [],
   "source": [
    "def preprocess_data(eeg_data, target_length=2047):\n",
    "    # Drop the label columns to get only electrode data\n",
    "    electrode_data = eeg_data.drop(columns=['label', 'label_type'])\n",
    "    y = eeg_data['label_type']\n",
    "    \n",
    "    X = []\n",
    "    for electrode in tqdm(electrode_data.columns, desc='Preprocessing'):\n",
    "        electrode_series = electrode_data[electrode].apply(lambda x: ast.literal_eval(x)).tolist()\n",
    "        \n",
    "        # Standardize the length of each list to `target_length`\n",
    "        standardized_series = []\n",
    "        for series in electrode_series:\n",
    "            if len(series) > target_length:\n",
    "                # Trim the series\n",
    "                series = series[:target_length]\n",
    "            elif len(series) < target_length:\n",
    "                # Pad the series with zeros\n",
    "                series = series + [0] * (target_length - len(series))\n",
    "            standardized_series.append(series)\n",
    "        \n",
    "        X.append(standardized_series)\n",
    "    \n",
    "    # Transpose to shape (samples, channels, time_points)\n",
    "    X = torch.tensor(X).transpose(0, 1).detach().cpu().numpy()  # Convert to NumPy array\n",
    "\n",
    "    # Encode labels\n",
    "    label_encoder = LabelEncoder()\n",
    "    y = label_encoder.fit_transform(y)\n",
    "    \n",
    "    return X, y"
   ]
  },
  {
   "cell_type": "code",
   "execution_count": 180,
   "metadata": {},
   "outputs": [],
   "source": [
    "class EEG_CNN(nn.Module):\n",
    "    def __init__(self):\n",
    "        super(EEG_CNN, self).__init__()\n",
    "        \n",
    "        # Convolutional layers with Batch Normalization\n",
    "        self.conv1 = nn.Conv1d(in_channels=64, out_channels=128, kernel_size=5, padding=2)\n",
    "        self.bn1 = nn.InstanceNorm1d(128)\n",
    "        \n",
    "        self.conv2 = nn.Conv1d(in_channels=128, out_channels=256, kernel_size=3, padding=1)\n",
    "        self.bn2 = nn.InstanceNorm1d(256)\n",
    "        \n",
    "        self.conv3 = nn.Conv1d(in_channels=256, out_channels=512, kernel_size=3, padding=1)\n",
    "        self.bn3 = nn.InstanceNorm1d(512)\n",
    "        \n",
    "        self.pool = nn.MaxPool1d(kernel_size=2, stride=2)\n",
    "        self.dropout = nn.Dropout(0.3)\n",
    "\n",
    "        # Placeholder for dynamically initializing the fully connected layer\n",
    "        self.fc1 = None\n",
    "        self.fc2 = nn.Linear(128, 2)  # Binary classification\n",
    "\n",
    "    def forward(self, x):\n",
    "        # Convolutional layers with Batch Normalization, ReLU, and Pooling\n",
    "        x = self.pool(F.relu(self.bn1(self.conv1(x))))\n",
    "        x = self.pool(F.relu(self.bn2(self.conv2(x))))\n",
    "        x = self.pool(F.relu(self.bn3(self.conv3(x))))\n",
    "        \n",
    "        # Flatten the output for the fully connected layer\n",
    "        x = x.view(x.size(0), -1)  # Flatten to [batch_size, features]\n",
    "        \n",
    "        # Dynamically initialize the first fully connected layer\n",
    "        if self.fc1 is None:\n",
    "            self.fc1 = nn.Linear(x.shape[1], 128).to(x.device)\n",
    "        \n",
    "        x = F.relu(self.fc1(x))\n",
    "        x = self.dropout(x)\n",
    "        x = self.fc2(x)\n",
    "        return x"
   ]
  },
  {
   "cell_type": "code",
   "execution_count": 181,
   "metadata": {},
   "outputs": [],
   "source": [
    "def train_model(model, train_loader, criterion, optimizer, epochs):\n",
    "    model.train()\n",
    "    for epoch in range(epochs):\n",
    "        running_loss = 0.0\n",
    "        for inputs, labels in train_loader:\n",
    "            optimizer.zero_grad()\n",
    "            outputs = model(inputs)\n",
    "            loss = criterion(outputs, labels)\n",
    "            loss.backward()\n",
    "            optimizer.step()\n",
    "            running_loss += loss.item()\n",
    "        print(f\"Epoch {epoch + 1}/{epochs}, Loss: {running_loss / len(train_loader)}\")\n"
   ]
  },
  {
   "cell_type": "code",
   "execution_count": 182,
   "metadata": {},
   "outputs": [],
   "source": [
    "def evaluate_model(model, test_loader):\n",
    "    model.eval()\n",
    "    all_preds = []\n",
    "    all_labels = []\n",
    "    \n",
    "    with torch.no_grad():\n",
    "        for inputs, labels in test_loader:\n",
    "            outputs = model(inputs)\n",
    "            _, preds = torch.max(outputs, 1)\n",
    "            all_preds.extend(preds.cpu().numpy())\n",
    "            all_labels.extend(labels.cpu().numpy())\n",
    "    \n",
    "    # Calculate accuracy\n",
    "    accuracy = sum(1 for x, y in zip(all_preds, all_labels) if x == y) / len(all_labels)\n",
    "    print(f\"Accuracy: {accuracy * 100:.2f}%\")\n",
    "\n",
    "    # Generate confusion matrix\n",
    "    cm = confusion_matrix(all_labels, all_preds)\n",
    "\n",
    "    # Classification report\n",
    "    print(\"Classification Report:\")\n",
    "    print(classification_report(all_labels, all_preds))\n",
    "\n",
    "    # Plot the confusion matrix\n",
    "    plt.figure(figsize=(8, 6))\n",
    "    sns.heatmap(cm, annot=True, fmt='d', cmap='Blues', xticklabels=['Class 0', 'Class 1'], yticklabels=['Class 0', 'Class 1'])\n",
    "    plt.xlabel('Predicted')\n",
    "    plt.ylabel('True')\n",
    "    plt.title('Confusion Matrix')\n",
    "    plt.show()"
   ]
  },
  {
   "cell_type": "code",
   "execution_count": 183,
   "metadata": {},
   "outputs": [],
   "source": [
    "def normalize_data(X):\n",
    "    \"\"\"\n",
    "    Normalize the input data.\n",
    "    X is expected to have the shape (n_samples, n_channels, n_timepoints).\n",
    "    \"\"\"\n",
    "    scaler = StandardScaler()\n",
    "    # Flatten to 2D shape (samples, features) for normalization\n",
    "    X = X.reshape(X.shape[0], -1)\n",
    "    X = scaler.fit_transform(X)\n",
    "    # Reshape back to original 3D shape (samples, channels, timepoints)\n",
    "    X = X.reshape(-1, 64, 2047)  # Adjust '64' and '2047' according to your data dimensions\n",
    "    return X"
   ]
  },
  {
   "cell_type": "code",
   "execution_count": 184,
   "metadata": {},
   "outputs": [],
   "source": [
    "def run_pipeline(eeg_data):\n",
    "    # Preprocess the data\n",
    "    X, y = preprocess_data(eeg_data)\n",
    "\n",
    "    # Normalize the data\n",
    "    X = normalize_data(X)\n",
    "    \n",
    "    # Split data into training and testing sets\n",
    "    X_train, X_test, y_train, y_test = train_test_split(X, y, test_size=0.2, random_state=42)\n",
    "    \n",
    "    # Create PyTorch Datasets and DataLoaders\n",
    "    train_dataset = EEGDataset(X_train, y_train)\n",
    "    test_dataset = EEGDataset(X_test, y_test)\n",
    "    train_loader = DataLoader(train_dataset, batch_size=32, shuffle=True)\n",
    "    test_loader = DataLoader(test_dataset, batch_size=32, shuffle=False)\n",
    "\n",
    "    # Initialize the model, criterion, and optimizer\n",
    "    model = EEG_CNN()\n",
    "    criterion = nn.CrossEntropyLoss()\n",
    "    optimizer = optim.Adam(model.parameters(), lr=0.001, weight_decay=1e-4)\n",
    "\n",
    "    # Train and evaluate the model\n",
    "    train_model(model, train_loader, criterion, optimizer, epochs=30)\n",
    "    evaluate_model(model, test_loader)"
   ]
  },
  {
   "cell_type": "code",
   "execution_count": 185,
   "metadata": {},
   "outputs": [
    {
     "name": "stderr",
     "output_type": "stream",
     "text": [
      "Preprocessing: 100%|██████████| 64/64 [00:58<00:00,  1.10it/s]\n"
     ]
    },
    {
     "name": "stdout",
     "output_type": "stream",
     "text": [
      "Epoch 1/30, Loss: 0.7521402090787888\n",
      "Epoch 2/30, Loss: 0.6906312331557274\n",
      "Epoch 3/30, Loss: 0.6704694405198097\n",
      "Epoch 4/30, Loss: 0.6556043028831482\n",
      "Epoch 5/30, Loss: 0.6474374607205391\n",
      "Epoch 6/30, Loss: 0.6383498087525368\n",
      "Epoch 7/30, Loss: 0.6303055137395859\n",
      "Epoch 8/30, Loss: 0.6183942183852196\n",
      "Epoch 9/30, Loss: 0.6312491595745087\n",
      "Epoch 10/30, Loss: 0.6194687113165855\n",
      "Epoch 11/30, Loss: 0.6076289266347885\n",
      "Epoch 12/30, Loss: 0.6090283766388893\n",
      "Epoch 13/30, Loss: 0.5970935001969337\n",
      "Epoch 14/30, Loss: 0.5973978862166405\n",
      "Epoch 15/30, Loss: 0.5816421136260033\n",
      "Epoch 16/30, Loss: 0.5917776711285114\n",
      "Epoch 17/30, Loss: 0.5893997251987457\n",
      "Epoch 18/30, Loss: 0.5828107818961143\n",
      "Epoch 19/30, Loss: 0.5745280086994171\n",
      "Epoch 20/30, Loss: 0.5641450583934784\n",
      "Epoch 21/30, Loss: 0.5405247285962105\n",
      "Epoch 22/30, Loss: 0.5512313209474087\n",
      "Epoch 23/30, Loss: 0.555390365421772\n",
      "Epoch 24/30, Loss: 0.5264910459518433\n",
      "Epoch 25/30, Loss: 0.5383398272097111\n",
      "Epoch 26/30, Loss: 0.521647784858942\n",
      "Epoch 27/30, Loss: 0.5132900588214397\n",
      "Epoch 28/30, Loss: 0.5143556669354439\n",
      "Epoch 29/30, Loss: 0.5044903829693794\n",
      "Epoch 30/30, Loss: 0.5029927901923656\n",
      "Accuracy: 39.06%\n",
      "Classification Report:\n",
      "              precision    recall  f1-score   support\n",
      "\n",
      "           0       0.33      0.30      0.32        30\n",
      "           1       0.43      0.47      0.45        34\n",
      "\n",
      "    accuracy                           0.39        64\n",
      "   macro avg       0.38      0.39      0.38        64\n",
      "weighted avg       0.39      0.39      0.39        64\n",
      "\n"
     ]
    },
    {
     "data": {
      "image/png": "[encoded data removed]",
      "text/plain": [
       "<Figure size 800x600 with 2 Axes>"
      ]
     },
     "metadata": {},
     "output_type": "display_data"
    }
   ],
   "source": [
    "run_pipeline(eeg_task)"
   ]
  }
 ],
 "metadata": {
  "kernelspec": {
   "display_name": "Python 3",
   "language": "python",
   "name": "python3"
  },
  "language_info": {
   "codemirror_mode": {
    "name": "ipython",
    "version": 3
   },
   "file_extension": ".py",
   "mimetype": "text/x-python",
   "name": "python",
   "nbconvert_exporter": "python",
   "pygments_lexer": "ipython3",
   "version": "3.9.7"
  }
 },
 "nbformat": 4,
 "nbformat_minor": 2
}
